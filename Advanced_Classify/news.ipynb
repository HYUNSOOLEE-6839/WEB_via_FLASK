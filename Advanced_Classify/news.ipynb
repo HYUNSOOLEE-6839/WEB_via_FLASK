{
 "metadata": {
  "language_info": {
   "codemirror_mode": {
    "name": "ipython",
    "version": 3
   },
   "file_extension": ".py",
   "mimetype": "text/x-python",
   "name": "python",
   "nbconvert_exporter": "python",
   "pygments_lexer": "ipython3",
   "version": "3.8.5"
  },
  "orig_nbformat": 2,
  "kernelspec": {
   "name": "python3",
   "display_name": "Python 3.8.5 64-bit (conda)",
   "metadata": {
    "interpreter": {
     "hash": "f87e2ded804537efab6afed555707257bf9365534df6351626b0c7e9b5bfb62e"
    }
   }
  }
 },
 "nbformat": 4,
 "nbformat_minor": 2,
 "cells": [
  {
   "source": [
    "### 20 News 그룹 분류"
   ],
   "cell_type": "markdown",
   "metadata": {}
  },
  {
   "cell_type": "code",
   "execution_count": 1,
   "metadata": {},
   "outputs": [],
   "source": [
    "import numpy as np \n",
    "import pandas as pd \n",
    "from sklearn.datasets import fetch_20newsgroups\n",
    "news_data = fetch_20newsgroups(subset='all', random_state=156)"
   ]
  },
  {
   "cell_type": "code",
   "execution_count": 2,
   "metadata": {},
   "outputs": [],
   "source": [
    "train_news = fetch_20newsgroups(subset='train', random_state=156,\n",
    "                                remove=('headers', 'footers', 'quotes'))"
   ]
  },
  {
   "cell_type": "code",
   "execution_count": 3,
   "metadata": {},
   "outputs": [
    {
     "output_type": "execute_result",
     "data": {
      "text/plain": [
       "data      0\n",
       "target    0\n",
       "dtype: int64"
      ]
     },
     "metadata": {},
     "execution_count": 3
    }
   ],
   "source": [
    "df_train = pd.DataFrame(train_news.data, columns=['data'])\n",
    "df_train['target'] = train_news.target\n",
    "df_train.isna().sum()"
   ]
  },
  {
   "cell_type": "code",
   "execution_count": 4,
   "metadata": {},
   "outputs": [
    {
     "output_type": "execute_result",
     "data": {
      "text/plain": [
       "                                                data  target\n",
       "0  \\n\\nWhat I did NOT get with my drive (CD300i) ...       4\n",
       "1  \\n\\t\"And in that day you will ask Me no questi...      15\n",
       "2  \\nI have to disagree with you on this one.  It...      10\n",
       "3  .\\n.\\n\\nTell him he probably needs to upgrade ...       2\n",
       "4  ->\\tFirst I want to start right out and say th...       0"
      ],
      "text/html": "<div>\n<style scoped>\n    .dataframe tbody tr th:only-of-type {\n        vertical-align: middle;\n    }\n\n    .dataframe tbody tr th {\n        vertical-align: top;\n    }\n\n    .dataframe thead th {\n        text-align: right;\n    }\n</style>\n<table border=\"1\" class=\"dataframe\">\n  <thead>\n    <tr style=\"text-align: right;\">\n      <th></th>\n      <th>data</th>\n      <th>target</th>\n    </tr>\n  </thead>\n  <tbody>\n    <tr>\n      <th>0</th>\n      <td>\\n\\nWhat I did NOT get with my drive (CD300i) ...</td>\n      <td>4</td>\n    </tr>\n    <tr>\n      <th>1</th>\n      <td>\\n\\t\"And in that day you will ask Me no questi...</td>\n      <td>15</td>\n    </tr>\n    <tr>\n      <th>2</th>\n      <td>\\nI have to disagree with you on this one.  It...</td>\n      <td>10</td>\n    </tr>\n    <tr>\n      <th>3</th>\n      <td>.\\n.\\n\\nTell him he probably needs to upgrade ...</td>\n      <td>2</td>\n    </tr>\n    <tr>\n      <th>4</th>\n      <td>-&gt;\\tFirst I want to start right out and say th...</td>\n      <td>0</td>\n    </tr>\n  </tbody>\n</table>\n</div>"
     },
     "metadata": {},
     "execution_count": 4
    }
   ],
   "source": [
    "df_train.head()"
   ]
  },
  {
   "cell_type": "code",
   "execution_count": 5,
   "metadata": {},
   "outputs": [
    {
     "output_type": "execute_result",
     "data": {
      "text/plain": [
       "data      218\n",
       "target    218\n",
       "dtype: int64"
      ]
     },
     "metadata": {},
     "execution_count": 5
    }
   ],
   "source": [
    "df_train[df_train.data == ''].count()"
   ]
  },
  {
   "cell_type": "code",
   "execution_count": 6,
   "metadata": {},
   "outputs": [
    {
     "output_type": "execute_result",
     "data": {
      "text/plain": [
       "data      0\n",
       "target    0\n",
       "dtype: int64"
      ]
     },
     "metadata": {},
     "execution_count": 6
    }
   ],
   "source": [
    "df_train = df_train.drop(df_train[df_train.data == ''].index)\n",
    "df_train[df_train.data == ''].count()"
   ]
  },
  {
   "cell_type": "code",
   "execution_count": 7,
   "metadata": {},
   "outputs": [],
   "source": [
    "test_news = fetch_20newsgroups(subset='test', random_state=156,\n",
    "                                remove=('headers', 'footers', 'quotes'))"
   ]
  },
  {
   "cell_type": "code",
   "execution_count": 12,
   "metadata": {},
   "outputs": [
    {
     "output_type": "execute_result",
     "data": {
      "text/plain": [
       "data      0\n",
       "target    0\n",
       "dtype: int64"
      ]
     },
     "metadata": {},
     "execution_count": 12
    }
   ],
   "source": [
    "df_test = pd.DataFrame(test_news.data, columns=['data'])\n",
    "df_test['target'] = test_news.target\n",
    "df_test.isna().sum()"
   ]
  },
  {
   "cell_type": "code",
   "execution_count": 13,
   "metadata": {},
   "outputs": [
    {
     "output_type": "execute_result",
     "data": {
      "text/plain": [
       "data      162\n",
       "target    162\n",
       "dtype: int64"
      ]
     },
     "metadata": {},
     "execution_count": 13
    }
   ],
   "source": [
    "df_test[df_test.data == ''].count()"
   ]
  },
  {
   "cell_type": "code",
   "execution_count": 14,
   "metadata": {},
   "outputs": [
    {
     "output_type": "execute_result",
     "data": {
      "text/plain": [
       "data      0\n",
       "target    0\n",
       "dtype: int64"
      ]
     },
     "metadata": {},
     "execution_count": 14
    }
   ],
   "source": [
    "df_test = df_test.drop(df_test[df_test.data == ''].index)\n",
    "df_test[df_test.data == ''].count()"
   ]
  },
  {
   "cell_type": "code",
   "execution_count": 15,
   "metadata": {},
   "outputs": [],
   "source": [
    "X_train = df_train.data.values\n",
    "y_train = df_train.target.values\n",
    "X_test = df_test.data.values\n",
    "y_test = df_test.target.values"
   ]
  },
  {
   "cell_type": "code",
   "execution_count": 16,
   "metadata": {},
   "outputs": [
    {
     "output_type": "execute_result",
     "data": {
      "text/plain": [
       "((11096,), (7370,))"
      ]
     },
     "metadata": {},
     "execution_count": 16
    }
   ],
   "source": [
    "X_train.shape, X_test.shape"
   ]
  },
  {
   "cell_type": "code",
   "execution_count": 17,
   "metadata": {},
   "outputs": [
    {
     "output_type": "execute_result",
     "data": {
      "text/plain": [
       "((11096,), (7370,))"
      ]
     },
     "metadata": {},
     "execution_count": 17
    }
   ],
   "source": [
    "y_train.shape, y_test.shape"
   ]
  },
  {
   "cell_type": "code",
   "execution_count": 18,
   "metadata": {},
   "outputs": [],
   "source": [
    "df_test.to_csv('../static/data/news_test.csv', index=False)"
   ]
  },
  {
   "source": [
    "### 피쳐 벡터화 변환\n",
    "- 1. Counter Vectorizer"
   ],
   "cell_type": "markdown",
   "metadata": {}
  },
  {
   "cell_type": "code",
   "execution_count": 19,
   "metadata": {},
   "outputs": [],
   "source": [
    "from sklearn.feature_extraction.text import CountVectorizer\n",
    "count_vect = CountVectorizer()\n",
    "count_vect.fit(X_train)\n",
    "X_train_count = count_vect.transform(X_train)\n",
    "X_test_count = count_vect.transform(X_test)"
   ]
  },
  {
   "cell_type": "code",
   "execution_count": 20,
   "metadata": {},
   "outputs": [
    {
     "output_type": "execute_result",
     "data": {
      "text/plain": [
       "((11096, 101631), (7370, 101631))"
      ]
     },
     "metadata": {},
     "execution_count": 20
    }
   ],
   "source": [
    "X_train_count.shape, X_test_count.shape"
   ]
  },
  {
   "cell_type": "code",
   "execution_count": 21,
   "metadata": {},
   "outputs": [
    {
     "output_type": "execute_result",
     "data": {
      "text/plain": [
       "{'analyzer': 'word',\n",
       " 'binary': False,\n",
       " 'decode_error': 'strict',\n",
       " 'dtype': numpy.int64,\n",
       " 'encoding': 'utf-8',\n",
       " 'input': 'content',\n",
       " 'lowercase': True,\n",
       " 'max_df': 1.0,\n",
       " 'max_features': None,\n",
       " 'min_df': 1,\n",
       " 'ngram_range': (1, 1),\n",
       " 'preprocessor': None,\n",
       " 'stop_words': None,\n",
       " 'strip_accents': None,\n",
       " 'token_pattern': '(?u)\\\\b\\\\w\\\\w+\\\\b',\n",
       " 'tokenizer': None,\n",
       " 'vocabulary': None}"
      ]
     },
     "metadata": {},
     "execution_count": 21
    }
   ],
   "source": [
    "count_vect.get_params()"
   ]
  },
  {
   "source": [
    "- Case2. Tfidf Vectorizer"
   ],
   "cell_type": "markdown",
   "metadata": {}
  },
  {
   "cell_type": "code",
   "execution_count": 22,
   "metadata": {},
   "outputs": [],
   "source": [
    "from sklearn.feature_extraction.text import TfidfVectorizer\n",
    "tfidf_vect = TfidfVectorizer()\n",
    "tfidf_vect.fit(X_train)\n",
    "X_train_tfidf = tfidf_vect.transform(X_train)\n",
    "X_test_tfidf = tfidf_vect.transform(X_test)"
   ]
  },
  {
   "source": [
    "### Pipeline 과 GridSearchCV 를 통한 하이퍼 파라미터 튜닝\n",
    "- Case A. CountVecorizer + Logistic Regression Classifier"
   ],
   "cell_type": "markdown",
   "metadata": {}
  },
  {
   "cell_type": "code",
   "execution_count": 23,
   "metadata": {},
   "outputs": [],
   "source": [
    "from sklearn.pipeline import Pipeline\n",
    "from sklearn.linear_model import LogisticRegression\n",
    "\n",
    "pipeline = Pipeline([\n",
    "    ('count_vect', CountVectorizer(stop_words='english')),\n",
    "    ('lr_clf', LogisticRegression())\n",
    "])"
   ]
  },
  {
   "cell_type": "code",
   "execution_count": 24,
   "metadata": {},
   "outputs": [],
   "source": [
    "params = {\n",
    "    'count_vect__ngram_range': [(1,1), (1,2)],\n",
    "    'count_vect__max_df': [300, 700],\n",
    "    'lr_clf__C': [1, 10]\n",
    "}"
   ]
  },
  {
   "cell_type": "code",
   "execution_count": 25,
   "metadata": {},
   "outputs": [
    {
     "output_type": "stream",
     "name": "stdout",
     "text": [
      "Fitting 3 folds for each of 8 candidates, totalling 24 fits\n",
      "{'count_vect__max_df': 300, 'count_vect__ngram_range': (1, 2), 'lr_clf__C': 1} 0.7060207269072718\n"
     ]
    }
   ],
   "source": [
    "from sklearn.model_selection import GridSearchCV\n",
    "\n",
    "grid_pipe = GridSearchCV(pipeline, param_grid=params, cv=3,\n",
    "                         scoring='accuracy', verbose=1, n_jobs=-1)\n",
    "grid_pipe.fit(X_train, y_train)\n",
    "print(grid_pipe.best_params_, grid_pipe.best_score_)"
   ]
  },
  {
   "cell_type": "code",
   "execution_count": 26,
   "metadata": {},
   "outputs": [],
   "source": [
    "best_count_lr = grid_pipe.best_estimator_\n",
    "pred_count_lr = best_count_lr.predict(X_test)"
   ]
  },
  {
   "cell_type": "code",
   "execution_count": 27,
   "metadata": {},
   "outputs": [
    {
     "output_type": "execute_result",
     "data": {
      "text/plain": [
       "0.6622795115332428"
      ]
     },
     "metadata": {},
     "execution_count": 27
    }
   ],
   "source": [
    "from sklearn.metrics import accuracy_score\n",
    "accuracy_score(y_test, pred_count_lr)"
   ]
  },
  {
   "source": [
    " - Case B. TfidfVecorizer + Logistic Regression Classifier"
   ],
   "cell_type": "markdown",
   "metadata": {}
  },
  {
   "cell_type": "code",
   "execution_count": 28,
   "metadata": {},
   "outputs": [],
   "source": [
    "pipeline = Pipeline([\n",
    "    ('tfidf_vect', TfidfVectorizer(stop_words='english')),\n",
    "    ('lr_clf', LogisticRegression())\n",
    "])\n",
    "params = {\n",
    "    'tfidf_vect__ngram_range': [(1,1), (1,2)],\n",
    "    'tfidf_vect__max_df': [300, 700],\n",
    "    'lr_clf__C': [1, 10]\n",
    "}"
   ]
  },
  {
   "cell_type": "code",
   "execution_count": 29,
   "metadata": {},
   "outputs": [],
   "source": [
    "import time\n",
    "import datetime"
   ]
  },
  {
   "cell_type": "code",
   "execution_count": 30,
   "metadata": {},
   "outputs": [
    {
     "output_type": "stream",
     "name": "stdout",
     "text": [
      "Fitting 3 folds for each of 8 candidates, totalling 24 fits\n",
      "{'lr_clf__C': 10, 'tfidf_vect__max_df': 700, 'tfidf_vect__ngram_range': (1, 2)} 0.766132057480442\n",
      "1:42:17\n"
     ]
    }
   ],
   "source": [
    "start = time.time()\n",
    "\n",
    "grid_pipe = GridSearchCV(pipeline, param_grid=params, cv=3,\n",
    "                         scoring='accuracy', verbose=1, n_jobs=-1)\n",
    "grid_pipe.fit(X_train, y_train)\n",
    "print(grid_pipe.best_params_, grid_pipe.best_score_)\n",
    "\n",
    "sec = time.time()-start\n",
    "times = str(datetime.timedelta(seconds=sec)).split(\".\")\n",
    "times = times[0]\n",
    "print(times)"
   ]
  },
  {
   "cell_type": "code",
   "execution_count": 35,
   "metadata": {},
   "outputs": [
    {
     "output_type": "execute_result",
     "data": {
      "text/plain": [
       "0.6957937584803257"
      ]
     },
     "metadata": {},
     "execution_count": 35
    }
   ],
   "source": [
    "best_tfidf_lr = grid_pipe.best_estimator_\n",
    "pred_tfidf_lr = best_tfidf_lr.predict(X_test)\n",
    "accuracy_score(y_test, pred_tfidf_lr)"
   ]
  },
  {
   "source": [
    "- Case C. TfidfVecorizer + Support Vector Classifier"
   ],
   "cell_type": "markdown",
   "metadata": {}
  },
  {
   "cell_type": "code",
   "execution_count": 31,
   "metadata": {},
   "outputs": [],
   "source": [
    "from sklearn.svm import SVC\n",
    "pipeline = Pipeline([\n",
    "    ('tfidf_vect', TfidfVectorizer(stop_words='english')),\n",
    "    ('sv_clf', SVC())\n",
    "])\n",
    "params = {\n",
    "    'tfidf_vect__ngram_range': [(1,1), (1,2)],\n",
    "    'tfidf_vect__max_df': [300, 700],\n",
    "    'sv_clf__C': [1, 10]\n",
    "}"
   ]
  },
  {
   "cell_type": "code",
   "execution_count": 32,
   "metadata": {},
   "outputs": [
    {
     "output_type": "stream",
     "name": "stdout",
     "text": [
      "Fitting 3 folds for each of 8 candidates, totalling 24 fits\n",
      "{'sv_clf__C': 10, 'tfidf_vect__max_df': 300, 'tfidf_vect__ngram_range': (1, 1)} 0.7586518518323572\n",
      "0:06:41\n"
     ]
    }
   ],
   "source": [
    "start = time.time()\n",
    "\n",
    "grid_pipe = GridSearchCV(pipeline, param_grid=params, cv=3,\n",
    "                         scoring='accuracy', verbose=1, n_jobs=-1)\n",
    "grid_pipe.fit(X_train, y_train)\n",
    "print(grid_pipe.best_params_, grid_pipe.best_score_)\n",
    "\n",
    "sec = time.time()-start\n",
    "times = str(datetime.timedelta(seconds=sec)).split(\".\")\n",
    "times = times[0]\n",
    "print(times)"
   ]
  },
  {
   "cell_type": "code",
   "execution_count": 33,
   "metadata": {},
   "outputs": [
    {
     "output_type": "execute_result",
     "data": {
      "text/plain": [
       "0.6957937584803257"
      ]
     },
     "metadata": {},
     "execution_count": 33
    }
   ],
   "source": [
    "best_tfidf_sv = grid_pipe.best_estimator_\n",
    "pred_tfidf_sv = best_tfidf_sv.predict(X_test)\n",
    "accuracy_score(y_test, pred_tfidf_sv)"
   ]
  },
  {
   "source": [
    "### 모델 저장"
   ],
   "cell_type": "markdown",
   "metadata": {}
  },
  {
   "cell_type": "code",
   "execution_count": 36,
   "metadata": {},
   "outputs": [
    {
     "output_type": "execute_result",
     "data": {
      "text/plain": [
       "['../static/model/news_tfidf_sv.pkl']"
      ]
     },
     "metadata": {},
     "execution_count": 36
    }
   ],
   "source": [
    "import joblib\n",
    "joblib.dump(best_count_lr, '../static/model/news_count_lr.pkl')\n",
    "joblib.dump(best_tfidf_lr, '../static/model/news_tfidf_lr.pkl')\n",
    "joblib.dump(best_tfidf_sv, '../static/model/news_tfidf_sv.pkl')"
   ]
  },
  {
   "source": [
    "### Test"
   ],
   "cell_type": "markdown",
   "metadata": {}
  },
  {
   "cell_type": "code",
   "execution_count": 37,
   "metadata": {},
   "outputs": [],
   "source": [
    "best_count_lr = joblib.load('../static/model/news_count_lr.pkl')\n",
    "best_tfidf_lr = joblib.load('../static/model/news_tfidf_lr.pkl')\n",
    "best_tfidf_sv = joblib.load('../static/model/news_tfidf_sv.pkl')"
   ]
  },
  {
   "cell_type": "code",
   "execution_count": 38,
   "metadata": {},
   "outputs": [
    {
     "output_type": "execute_result",
     "data": {
      "text/plain": [
       "                                                   data  target\n",
       "7365  \\nOil Pressure, Oil Temperature\\nCoolant Tempe...       7\n",
       "7366  \\nOh dear, time for me to try to remember my c...      12\n",
       "7367  \\n\\n\\n-- That means that there cannot be any a...      13\n",
       "7368  s:\\n  I have a 1991 Toyota Camry Deluxe for sa...       6\n",
       "7369  May 13, 1993  _Five Russian soldiers sentenced...      17"
      ],
      "text/html": "<div>\n<style scoped>\n    .dataframe tbody tr th:only-of-type {\n        vertical-align: middle;\n    }\n\n    .dataframe tbody tr th {\n        vertical-align: top;\n    }\n\n    .dataframe thead th {\n        text-align: right;\n    }\n</style>\n<table border=\"1\" class=\"dataframe\">\n  <thead>\n    <tr style=\"text-align: right;\">\n      <th></th>\n      <th>data</th>\n      <th>target</th>\n    </tr>\n  </thead>\n  <tbody>\n    <tr>\n      <th>7365</th>\n      <td>\\nOil Pressure, Oil Temperature\\nCoolant Tempe...</td>\n      <td>7</td>\n    </tr>\n    <tr>\n      <th>7366</th>\n      <td>\\nOh dear, time for me to try to remember my c...</td>\n      <td>12</td>\n    </tr>\n    <tr>\n      <th>7367</th>\n      <td>\\n\\n\\n-- That means that there cannot be any a...</td>\n      <td>13</td>\n    </tr>\n    <tr>\n      <th>7368</th>\n      <td>s:\\n  I have a 1991 Toyota Camry Deluxe for sa...</td>\n      <td>6</td>\n    </tr>\n    <tr>\n      <th>7369</th>\n      <td>May 13, 1993  _Five Russian soldiers sentenced...</td>\n      <td>17</td>\n    </tr>\n  </tbody>\n</table>\n</div>"
     },
     "metadata": {},
     "execution_count": 38
    }
   ],
   "source": [
    "index = 7300\n",
    "df = pd.read_csv('../static/data/news_test.csv')\n",
    "df.tail()"
   ]
  },
  {
   "cell_type": "code",
   "execution_count": 39,
   "metadata": {},
   "outputs": [
    {
     "output_type": "execute_result",
     "data": {
      "text/plain": [
       "17"
      ]
     },
     "metadata": {},
     "execution_count": 39
    }
   ],
   "source": [
    "label = df.target[index]\n",
    "label"
   ]
  },
  {
   "cell_type": "code",
   "execution_count": 50,
   "metadata": {},
   "outputs": [
    {
     "output_type": "execute_result",
     "data": {
      "text/plain": [
       "str"
      ]
     },
     "metadata": {},
     "execution_count": 50
    }
   ],
   "source": [
    "type(df.data[7000])"
   ]
  },
  {
   "cell_type": "code",
   "execution_count": 41,
   "metadata": {},
   "outputs": [
    {
     "output_type": "execute_result",
     "data": {
      "text/plain": [
       "['i', ' ', 'a', 'm', ' ', 'a', ' ', 'b', 'o', 'y']"
      ]
     },
     "metadata": {},
     "execution_count": 41
    }
   ],
   "source": [
    "list('i am a boy')"
   ]
  },
  {
   "cell_type": "code",
   "execution_count": 44,
   "metadata": {},
   "outputs": [
    {
     "output_type": "execute_result",
     "data": {
      "text/plain": [
       "['\\n\\nThe borders of the Jewish state as drawn by the U.N. included the areas which\\ncontained mostly Jews,  that\\'s what the surveys and the numerous commitees\\nwhere after when they visited here.\\n\\n\\nI never touched an Arab during my army service and never voted for anyone more\\nright than the Green party.  Will I be spared by these \"humanist standards\"?\\n(or will anyone stop to consider this before sloughtering me?)\\n\\nI doubt it.  And not only because of the past record of murdering helpless\\nwomen and children since the turn of the century up to these days.\\n']"
      ]
     },
     "metadata": {},
     "execution_count": 44
    }
   ],
   "source": [
    "# test data 만드는 방법 1\n",
    "test_data = []\n",
    "test_data.append(df.data[index])\n",
    "test_data"
   ]
  },
  {
   "cell_type": "code",
   "execution_count": 43,
   "metadata": {},
   "outputs": [
    {
     "output_type": "execute_result",
     "data": {
      "text/plain": [
       "array(['\\n\\nThe borders of the Jewish state as drawn by the U.N. included the areas which\\ncontained mostly Jews,  that\\'s what the surveys and the numerous commitees\\nwhere after when they visited here.\\n\\n\\nI never touched an Arab during my army service and never voted for anyone more\\nright than the Green party.  Will I be spared by these \"humanist standards\"?\\n(or will anyone stop to consider this before sloughtering me?)\\n\\nI doubt it.  And not only because of the past record of murdering helpless\\nwomen and children since the turn of the century up to these days.\\n'],\n",
       "      dtype=object)"
      ]
     },
     "metadata": {},
     "execution_count": 43
    }
   ],
   "source": [
    "# test_data 만드는 방법 2\n",
    "test_data = df.iloc[index:index+1, 0].values\n",
    "test_data"
   ]
  },
  {
   "cell_type": "code",
   "execution_count": 45,
   "metadata": {},
   "outputs": [],
   "source": [
    "pred = best_tfidf_sv.predict(test_data)"
   ]
  },
  {
   "cell_type": "code",
   "execution_count": 46,
   "metadata": {},
   "outputs": [
    {
     "output_type": "execute_result",
     "data": {
      "text/plain": [
       "(17, 17)"
      ]
     },
     "metadata": {},
     "execution_count": 46
    }
   ],
   "source": [
    "pred[0], label"
   ]
  },
  {
   "cell_type": "code",
   "execution_count": 47,
   "metadata": {},
   "outputs": [
    {
     "output_type": "execute_result",
     "data": {
      "text/plain": [
       "['alt.atheism',\n",
       " 'comp.graphics',\n",
       " 'comp.os.ms-windows.misc',\n",
       " 'comp.sys.ibm.pc.hardware',\n",
       " 'comp.sys.mac.hardware',\n",
       " 'comp.windows.x',\n",
       " 'misc.forsale',\n",
       " 'rec.autos',\n",
       " 'rec.motorcycles',\n",
       " 'rec.sport.baseball',\n",
       " 'rec.sport.hockey',\n",
       " 'sci.crypt',\n",
       " 'sci.electronics',\n",
       " 'sci.med',\n",
       " 'sci.space',\n",
       " 'soc.religion.christian',\n",
       " 'talk.politics.guns',\n",
       " 'talk.politics.mideast',\n",
       " 'talk.politics.misc',\n",
       " 'talk.religion.misc']"
      ]
     },
     "metadata": {},
     "execution_count": 47
    }
   ],
   "source": [
    "news_data.target_names"
   ]
  },
  {
   "cell_type": "code",
   "execution_count": 48,
   "metadata": {},
   "outputs": [
    {
     "output_type": "execute_result",
     "data": {
      "text/plain": [
       "{0: 'alt.atheism',\n",
       " 1: 'comp.graphics',\n",
       " 2: 'comp.os.ms-windows.misc',\n",
       " 3: 'comp.sys.ibm.pc.hardware',\n",
       " 4: 'comp.sys.mac.hardware',\n",
       " 5: 'comp.windows.x',\n",
       " 6: 'misc.forsale',\n",
       " 7: 'rec.autos',\n",
       " 8: 'rec.motorcycles',\n",
       " 9: 'rec.sport.baseball',\n",
       " 10: 'rec.sport.hockey',\n",
       " 11: 'sci.crypt',\n",
       " 12: 'sci.electronics',\n",
       " 13: 'sci.med',\n",
       " 14: 'sci.space',\n",
       " 15: 'soc.religion.christian',\n",
       " 16: 'talk.politics.guns',\n",
       " 17: 'talk.politics.mideast',\n",
       " 18: 'talk.politics.misc',\n",
       " 19: 'talk.religion.misc'}"
      ]
     },
     "metadata": {},
     "execution_count": 48
    }
   ],
   "source": [
    "target_names = dict(zip(range(20),news_data.target_names))\n",
    "target_names"
   ]
  },
  {
   "cell_type": "code",
   "execution_count": null,
   "metadata": {},
   "outputs": [],
   "source": []
  }
 ]
}