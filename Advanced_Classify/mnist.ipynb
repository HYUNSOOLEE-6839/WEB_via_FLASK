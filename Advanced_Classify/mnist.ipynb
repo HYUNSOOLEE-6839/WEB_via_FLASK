{
 "metadata": {
  "language_info": {
   "codemirror_mode": {
    "name": "ipython",
    "version": 3
   },
   "file_extension": ".py",
   "mimetype": "text/x-python",
   "name": "python",
   "nbconvert_exporter": "python",
   "pygments_lexer": "ipython3",
   "version": "3.8.5"
  },
  "orig_nbformat": 2,
  "kernelspec": {
   "name": "python3",
   "display_name": "Python 3.8.5 64-bit (conda)",
   "metadata": {
    "interpreter": {
     "hash": "f87e2ded804537efab6afed555707257bf9365534df6351626b0c7e9b5bfb62e"
    }
   }
  }
 },
 "nbformat": 4,
 "nbformat_minor": 2,
 "cells": [
  {
   "source": [
    "# MNIST Original Hand-written Images"
   ],
   "cell_type": "markdown",
   "metadata": {}
  },
  {
   "cell_type": "code",
   "execution_count": 4,
   "metadata": {},
   "outputs": [],
   "source": [
    "import pandas as pd \n",
    "import joblib\n",
    "import matplotlib.pyplot as plt \n",
    "%matplotlib inline"
   ]
  },
  {
   "cell_type": "code",
   "execution_count": 5,
   "metadata": {},
   "outputs": [],
   "source": [
    "from sklearn.preprocessing import MinMaxScaler\n",
    "from sklearn.linear_model import LogisticRegression\n",
    "from sklearn.svm import SVC\n",
    "from sklearn.ensemble import RandomForestClassifier\n",
    "from sklearn.model_selection import GridSearchCV\n",
    "from sklearn.metrics import accuracy_score"
   ]
  },
  {
   "cell_type": "code",
   "execution_count": 6,
   "metadata": {},
   "outputs": [
    {
     "output_type": "execute_result",
     "data": {
      "text/plain": [
       "   pixel_0_0  pixel_0_1  pixel_0_2  pixel_0_3  pixel_0_4  pixel_0_5  \\\n",
       "0        0.0        0.0        6.0       16.0        8.0        0.0   \n",
       "1        0.0        0.0        4.0       16.0       16.0        8.0   \n",
       "2        0.0        0.0        0.0        4.0       15.0       12.0   \n",
       "3        0.0        3.0       12.0       12.0       14.0       15.0   \n",
       "4        0.0        0.0        6.0       11.0       16.0       16.0   \n",
       "\n",
       "   pixel_0_6  pixel_0_7  pixel_1_0  pixel_1_1  ...  pixel_6_7  pixel_7_0  \\\n",
       "0        0.0        0.0        0.0        0.0  ...        3.0        0.0   \n",
       "1        0.0        0.0        0.0        0.0  ...        0.0        0.0   \n",
       "2        0.0        0.0        0.0        0.0  ...        0.0        0.0   \n",
       "3        3.0        0.0        0.0        4.0  ...        0.0        0.0   \n",
       "4        3.0        0.0        0.0        5.0  ...        0.0        0.0   \n",
       "\n",
       "   pixel_7_1  pixel_7_2  pixel_7_3  pixel_7_4  pixel_7_5  pixel_7_6  \\\n",
       "0        0.0        4.0       16.0       16.0       15.0       16.0   \n",
       "1        0.0        6.0       12.0       12.0        2.0        0.0   \n",
       "2        0.0        0.0        3.0       11.0       16.0        9.0   \n",
       "3        2.0       15.0       16.0       14.0        3.0        0.0   \n",
       "4        0.0        5.0       16.0       13.0        0.0        0.0   \n",
       "\n",
       "   pixel_7_7  target  \n",
       "0       16.0       2  \n",
       "1        0.0       1  \n",
       "2        0.0       2  \n",
       "3        0.0       5  \n",
       "4        0.0       5  \n",
       "\n",
       "[5 rows x 65 columns]"
      ],
      "text/html": "<div>\n<style scoped>\n    .dataframe tbody tr th:only-of-type {\n        vertical-align: middle;\n    }\n\n    .dataframe tbody tr th {\n        vertical-align: top;\n    }\n\n    .dataframe thead th {\n        text-align: right;\n    }\n</style>\n<table border=\"1\" class=\"dataframe\">\n  <thead>\n    <tr style=\"text-align: right;\">\n      <th></th>\n      <th>pixel_0_0</th>\n      <th>pixel_0_1</th>\n      <th>pixel_0_2</th>\n      <th>pixel_0_3</th>\n      <th>pixel_0_4</th>\n      <th>pixel_0_5</th>\n      <th>pixel_0_6</th>\n      <th>pixel_0_7</th>\n      <th>pixel_1_0</th>\n      <th>pixel_1_1</th>\n      <th>...</th>\n      <th>pixel_6_7</th>\n      <th>pixel_7_0</th>\n      <th>pixel_7_1</th>\n      <th>pixel_7_2</th>\n      <th>pixel_7_3</th>\n      <th>pixel_7_4</th>\n      <th>pixel_7_5</th>\n      <th>pixel_7_6</th>\n      <th>pixel_7_7</th>\n      <th>target</th>\n    </tr>\n  </thead>\n  <tbody>\n    <tr>\n      <th>0</th>\n      <td>0.0</td>\n      <td>0.0</td>\n      <td>6.0</td>\n      <td>16.0</td>\n      <td>8.0</td>\n      <td>0.0</td>\n      <td>0.0</td>\n      <td>0.0</td>\n      <td>0.0</td>\n      <td>0.0</td>\n      <td>...</td>\n      <td>3.0</td>\n      <td>0.0</td>\n      <td>0.0</td>\n      <td>4.0</td>\n      <td>16.0</td>\n      <td>16.0</td>\n      <td>15.0</td>\n      <td>16.0</td>\n      <td>16.0</td>\n      <td>2</td>\n    </tr>\n    <tr>\n      <th>1</th>\n      <td>0.0</td>\n      <td>0.0</td>\n      <td>4.0</td>\n      <td>16.0</td>\n      <td>16.0</td>\n      <td>8.0</td>\n      <td>0.0</td>\n      <td>0.0</td>\n      <td>0.0</td>\n      <td>0.0</td>\n      <td>...</td>\n      <td>0.0</td>\n      <td>0.0</td>\n      <td>0.0</td>\n      <td>6.0</td>\n      <td>12.0</td>\n      <td>12.0</td>\n      <td>2.0</td>\n      <td>0.0</td>\n      <td>0.0</td>\n      <td>1</td>\n    </tr>\n    <tr>\n      <th>2</th>\n      <td>0.0</td>\n      <td>0.0</td>\n      <td>0.0</td>\n      <td>4.0</td>\n      <td>15.0</td>\n      <td>12.0</td>\n      <td>0.0</td>\n      <td>0.0</td>\n      <td>0.0</td>\n      <td>0.0</td>\n      <td>...</td>\n      <td>0.0</td>\n      <td>0.0</td>\n      <td>0.0</td>\n      <td>0.0</td>\n      <td>3.0</td>\n      <td>11.0</td>\n      <td>16.0</td>\n      <td>9.0</td>\n      <td>0.0</td>\n      <td>2</td>\n    </tr>\n    <tr>\n      <th>3</th>\n      <td>0.0</td>\n      <td>3.0</td>\n      <td>12.0</td>\n      <td>12.0</td>\n      <td>14.0</td>\n      <td>15.0</td>\n      <td>3.0</td>\n      <td>0.0</td>\n      <td>0.0</td>\n      <td>4.0</td>\n      <td>...</td>\n      <td>0.0</td>\n      <td>0.0</td>\n      <td>2.0</td>\n      <td>15.0</td>\n      <td>16.0</td>\n      <td>14.0</td>\n      <td>3.0</td>\n      <td>0.0</td>\n      <td>0.0</td>\n      <td>5</td>\n    </tr>\n    <tr>\n      <th>4</th>\n      <td>0.0</td>\n      <td>0.0</td>\n      <td>6.0</td>\n      <td>11.0</td>\n      <td>16.0</td>\n      <td>16.0</td>\n      <td>3.0</td>\n      <td>0.0</td>\n      <td>0.0</td>\n      <td>5.0</td>\n      <td>...</td>\n      <td>0.0</td>\n      <td>0.0</td>\n      <td>0.0</td>\n      <td>5.0</td>\n      <td>16.0</td>\n      <td>13.0</td>\n      <td>0.0</td>\n      <td>0.0</td>\n      <td>0.0</td>\n      <td>5</td>\n    </tr>\n  </tbody>\n</table>\n<p>5 rows × 65 columns</p>\n</div>"
     },
     "metadata": {},
     "execution_count": 6
    }
   ],
   "source": [
    "df_train = pd.read_csv('../static/data/digits_train.csv')\n",
    "df_train.head()"
   ]
  },
  {
   "cell_type": "code",
   "execution_count": 7,
   "metadata": {},
   "outputs": [
    {
     "output_type": "stream",
     "name": "stdout",
     "text": [
      "<class 'pandas.core.frame.DataFrame'>\nRangeIndex: 1347 entries, 0 to 1346\nData columns (total 65 columns):\n #   Column     Non-Null Count  Dtype  \n---  ------     --------------  -----  \n 0   pixel_0_0  1347 non-null   float64\n 1   pixel_0_1  1347 non-null   float64\n 2   pixel_0_2  1347 non-null   float64\n 3   pixel_0_3  1347 non-null   float64\n 4   pixel_0_4  1347 non-null   float64\n 5   pixel_0_5  1347 non-null   float64\n 6   pixel_0_6  1347 non-null   float64\n 7   pixel_0_7  1347 non-null   float64\n 8   pixel_1_0  1347 non-null   float64\n 9   pixel_1_1  1347 non-null   float64\n 10  pixel_1_2  1347 non-null   float64\n 11  pixel_1_3  1347 non-null   float64\n 12  pixel_1_4  1347 non-null   float64\n 13  pixel_1_5  1347 non-null   float64\n 14  pixel_1_6  1347 non-null   float64\n 15  pixel_1_7  1347 non-null   float64\n 16  pixel_2_0  1347 non-null   float64\n 17  pixel_2_1  1347 non-null   float64\n 18  pixel_2_2  1347 non-null   float64\n 19  pixel_2_3  1347 non-null   float64\n 20  pixel_2_4  1347 non-null   float64\n 21  pixel_2_5  1347 non-null   float64\n 22  pixel_2_6  1347 non-null   float64\n 23  pixel_2_7  1347 non-null   float64\n 24  pixel_3_0  1347 non-null   float64\n 25  pixel_3_1  1347 non-null   float64\n 26  pixel_3_2  1347 non-null   float64\n 27  pixel_3_3  1347 non-null   float64\n 28  pixel_3_4  1347 non-null   float64\n 29  pixel_3_5  1347 non-null   float64\n 30  pixel_3_6  1347 non-null   float64\n 31  pixel_3_7  1347 non-null   float64\n 32  pixel_4_0  1347 non-null   float64\n 33  pixel_4_1  1347 non-null   float64\n 34  pixel_4_2  1347 non-null   float64\n 35  pixel_4_3  1347 non-null   float64\n 36  pixel_4_4  1347 non-null   float64\n 37  pixel_4_5  1347 non-null   float64\n 38  pixel_4_6  1347 non-null   float64\n 39  pixel_4_7  1347 non-null   float64\n 40  pixel_5_0  1347 non-null   float64\n 41  pixel_5_1  1347 non-null   float64\n 42  pixel_5_2  1347 non-null   float64\n 43  pixel_5_3  1347 non-null   float64\n 44  pixel_5_4  1347 non-null   float64\n 45  pixel_5_5  1347 non-null   float64\n 46  pixel_5_6  1347 non-null   float64\n 47  pixel_5_7  1347 non-null   float64\n 48  pixel_6_0  1347 non-null   float64\n 49  pixel_6_1  1347 non-null   float64\n 50  pixel_6_2  1347 non-null   float64\n 51  pixel_6_3  1347 non-null   float64\n 52  pixel_6_4  1347 non-null   float64\n 53  pixel_6_5  1347 non-null   float64\n 54  pixel_6_6  1347 non-null   float64\n 55  pixel_6_7  1347 non-null   float64\n 56  pixel_7_0  1347 non-null   float64\n 57  pixel_7_1  1347 non-null   float64\n 58  pixel_7_2  1347 non-null   float64\n 59  pixel_7_3  1347 non-null   float64\n 60  pixel_7_4  1347 non-null   float64\n 61  pixel_7_5  1347 non-null   float64\n 62  pixel_7_6  1347 non-null   float64\n 63  pixel_7_7  1347 non-null   float64\n 64  target     1347 non-null   int64  \ndtypes: float64(64), int64(1)\nmemory usage: 684.1 KB\n"
     ]
    }
   ],
   "source": [
    "df_train.info()"
   ]
  },
  {
   "cell_type": "code",
   "execution_count": 8,
   "metadata": {},
   "outputs": [],
   "source": [
    "import sklearn.datasets as sd\n",
    "digits = sd.load_digits()"
   ]
  },
  {
   "cell_type": "code",
   "execution_count": 9,
   "metadata": {},
   "outputs": [
    {
     "output_type": "display_data",
     "data": {
      "text/plain": "<Figure size 144x144 with 1 Axes>",
      "image/svg+xml": "<?xml version=\"1.0\" encoding=\"utf-8\" standalone=\"no\"?>\n<!DOCTYPE svg PUBLIC \"-//W3C//DTD SVG 1.1//EN\"\n  \"http://www.w3.org/Graphics/SVG/1.1/DTD/svg11.dtd\">\n<!-- Created with matplotlib (https://matplotlib.org/) -->\n<svg height=\"126.62pt\" version=\"1.1\" viewBox=\"0 0 126.62 126.62\" width=\"126.62pt\" xmlns=\"http://www.w3.org/2000/svg\" xmlns:xlink=\"http://www.w3.org/1999/xlink\">\n <metadata>\n  <rdf:RDF xmlns:cc=\"http://creativecommons.org/ns#\" xmlns:dc=\"http://purl.org/dc/elements/1.1/\" xmlns:rdf=\"http://www.w3.org/1999/02/22-rdf-syntax-ns#\">\n   <cc:Work>\n    <dc:type rdf:resource=\"http://purl.org/dc/dcmitype/StillImage\"/>\n    <dc:date>2021-04-21T15:20:13.538473</dc:date>\n    <dc:format>image/svg+xml</dc:format>\n    <dc:creator>\n     <cc:Agent>\n      <dc:title>Matplotlib v3.3.2, https://matplotlib.org/</dc:title>\n     </cc:Agent>\n    </dc:creator>\n   </cc:Work>\n  </rdf:RDF>\n </metadata>\n <defs>\n  <style type=\"text/css\">*{stroke-linecap:butt;stroke-linejoin:round;}</style>\n </defs>\n <g id=\"figure_1\">\n  <g id=\"patch_1\">\n   <path d=\"M 0 126.62 \nL 126.62 126.62 \nL 126.62 0 \nL 0 0 \nz\n\" style=\"fill:none;\"/>\n  </g>\n  <g id=\"axes_1\">\n   <g id=\"patch_2\">\n    <path d=\"M 10.7 115.92 \nL 119.42 115.92 \nL 119.42 7.2 \nL 10.7 7.2 \nz\n\" style=\"fill:#ffffff;\"/>\n   </g>\n   <g clip-path=\"url(#p1a288d589c)\">\n    <image height=\"109\" id=\"image4e883759a0\" transform=\"scale(1 -1)translate(0 -109)\" width=\"109\" x=\"10.7\" xlink:href=\"data:image/png;base64,\niVBORw0KGgoAAAANSUhEUgAAAG0AAABtCAYAAACr+O9WAAAB9ElEQVR4nO3dUY3CQBhF4WGzBioBkFAk1AIWsIAFagEJrQSwQB0UCa2Eroa5D92c5Hzvf4ZwMi/TZnrYtm0rO3k+n9Hc4/GonrlcLtFawzBEc3v6+e8foHpGAzIakNGAjAZkNCCjARkNyGhARgMyGpDRgIwGdEhP+b/fb/VM27bJUtHTgXEco7XmeY7mPp9PNJdwpwEZDchoQEYDMhqQ0YCMBmQ0IKMBGQ3IaEBGA/pNB5MD4/RV7ev1Wj3TdV20VjrX9331zP1+j9ZypwEZDchoQEYDMhqQ0YCMBmQ0IKMBGQ3IaEBGAzIaUHzKv65r9Uz6WniiaZpoLn0SkfwfKXcakNGAjAZkNCCjARkNyGhARgMyGpDRgIwGZDQgowHFp/zJKfrr9YrWSq54T6VPB/bkTgMyGpDRgIwGZDQgowEZDchoQEYDMhqQ0YCMBrTrgfE0TdFayUUzp9MpWiu99XvPV97daUBGAzIakNGAjAZkNCCjARkNyGhARgMyGpDRgIwGFJ/yJ6fax+MxWut8PlfPJNfCl1LK+/2O5m63WzSXcKcBGQ3IaEBGAzIakNGAjAZkNCCjARkNyGhARgOKD4wTyXczS8m+nZneB7IsSzS35/0j7jQgowEZDchoQEYDMhqQ0YCMBmQ0IKMBGQ3IaEBGA/oDvP9DctM4DpkAAAAASUVORK5CYII=\" y=\"-6.92\"/>\n   </g>\n   <g id=\"matplotlib.axis_1\"/>\n   <g id=\"matplotlib.axis_2\"/>\n   <g id=\"patch_3\">\n    <path d=\"M 10.7 115.92 \nL 10.7 7.2 \n\" style=\"fill:none;stroke:#000000;stroke-linecap:square;stroke-linejoin:miter;stroke-width:0.8;\"/>\n   </g>\n   <g id=\"patch_4\">\n    <path d=\"M 119.42 115.92 \nL 119.42 7.2 \n\" style=\"fill:none;stroke:#000000;stroke-linecap:square;stroke-linejoin:miter;stroke-width:0.8;\"/>\n   </g>\n   <g id=\"patch_5\">\n    <path d=\"M 10.7 115.92 \nL 119.42 115.92 \n\" style=\"fill:none;stroke:#000000;stroke-linecap:square;stroke-linejoin:miter;stroke-width:0.8;\"/>\n   </g>\n   <g id=\"patch_6\">\n    <path d=\"M 10.7 7.2 \nL 119.42 7.2 \n\" style=\"fill:none;stroke:#000000;stroke-linecap:square;stroke-linejoin:miter;stroke-width:0.8;\"/>\n   </g>\n  </g>\n </g>\n <defs>\n  <clipPath id=\"p1a288d589c\">\n   <rect height=\"108.72\" width=\"108.72\" x=\"10.7\" y=\"7.2\"/>\n  </clipPath>\n </defs>\n</svg>\n",
      "image/png": "[encoded data removed]"
     },
     "metadata": {}
    }
   ],
   "source": [
    "plt.figure(figsize=(2,2))\n",
    "plt.imshow(digits.images[0], cmap=plt.cm.binary, interpolation='nearest')\n",
    "plt.xticks([]); plt.yticks([])\n",
    "plt.show()"
   ]
  },
  {
   "cell_type": "code",
   "execution_count": 10,
   "metadata": {},
   "outputs": [
    {
     "output_type": "display_data",
     "data": {
      "text/plain": "<Figure size 864x144 with 8 Axes>",
      "image/svg+xml": "<?xml version=\"1.0\" encoding=\"utf-8\" standalone=\"no\"?>\n<!DOCTYPE svg PUBLIC \"-//W3C//DTD SVG 1.1//EN\"\n  \"http://www.w3.org/Graphics/SVG/1.1/DTD/svg11.dtd\">\n<!-- Created with matplotlib (https://matplotlib.org/) -->\n<svg height=\"121.373054pt\" version=\"1.1\" viewBox=\"0 0 881.9 121.373054\" width=\"881.9pt\" xmlns=\"http://www.w3.org/2000/svg\" xmlns:xlink=\"http://www.w3.org/1999/xlink\">\n <metadata>\n  <rdf:RDF xmlns:cc=\"http://creativecommons.org/ns#\" xmlns:dc=\"http://purl.org/dc/elements/1.1/\" xmlns:rdf=\"http://www.w3.org/1999/02/22-rdf-syntax-ns#\">\n   <cc:Work>\n    <dc:type rdf:resource=\"http://purl.org/dc/dcmitype/StillImage\"/>\n    <dc:date>2021-04-21T15:23:35.627645</dc:date>\n    <dc:format>image/svg+xml</dc:format>\n    <dc:creator>\n     <cc:Agent>\n      <dc:title>Matplotlib v3.3.2, https://matplotlib.org/</dc:title>\n     </cc:Agent>\n    </dc:creator>\n   </cc:Work>\n  </rdf:RDF>\n </metadata>\n <defs>\n  <style type=\"text/css\">*{stroke-linecap:butt;stroke-linejoin:round;}</style>\n </defs>\n <g id=\"figure_1\">\n  <g id=\"patch_1\">\n   <path d=\"M 0 121.373054 \nL 881.9 121.373054 \nL 881.9 0 \nL 0 0 \nz\n\" style=\"fill:none;\"/>\n  </g>\n  <g id=\"axes_1\">\n   <g id=\"patch_2\">\n    <path d=\"M 10.7 110.673054 \nL 114.173054 110.673054 \nL 114.173054 7.2 \nL 10.7 7.2 \nz\n\" style=\"fill:#ffffff;\"/>\n   </g>\n   <g clip-path=\"url(#pb99a40791f)\">\n    <image height=\"104\" id=\"image116890d0a5\" transform=\"scale(1 -1)translate(0 -104)\" width=\"104\" x=\"10.7\" xlink:href=\"data:image/png;base64,\niVBORw0KGgoAAAANSUhEUgAAAGgAAABoCAYAAAAdHLWhAAAB3UlEQVR4nO3dQXHCUBhF4dKpASQAEkACFrCABSwQC0hIJICFxEEiASSkDjrz38XrWZxvfwfaM2/zJk0367quXw08Ho/y5n6/lzen06m86fu+vGnl+7+/gP5mIDgDwRkIzkBwBoIzEJyB4AwEZyA4A8EZCG6TXJYuy1L+oOPxWN4kF6zDMJQ38zyXN+M4ljcJTxCcgeAMBGcgOAPBGQjOQHAGgjMQnIHgDARnILifZJRcliZPfF4ul/LmfD432XRdV97cbrfyxhMEZyA4A8EZCM5AcAaCMxCcgeAMBGcgOAPBGQguuiz9fD7lTfJkaWK73ZY3yUVu8jtIeILgDARnIDgDwRkIzkBwBoIzEJyB4AwEZyA4A8FFl6XJheTz+SxvkneWJpKfpxVPEJyB4AwEZyA4A8EZCM5AcAaCMxCcgeAMBGcguGaXpdM0lTfJn/vv9/vyJnn/aKsnZT1BcAaCMxCcgeAMBGcgOAPBGQjOQHAGgjMQnIHgosvS5KJwt9uVN4fDobxJ3nP6er3Km+v1Wt4kPEFwBoIzEJyB4AwEZyA4A8EZCM5AcAaCMxCcgeCiy9JEq3+IlDz1+n6/m3xOwhMEZyA4A8EZCM5AcAaCMxCcgeAMBGcgOAPBGQjuFyXnQ2h1wyjTAAAAAElFTkSuQmCC\" y=\"-6.673054\"/>\n   </g>\n   <g id=\"matplotlib.axis_1\"/>\n   <g id=\"matplotlib.axis_2\"/>\n   <g id=\"patch_3\">\n    <path d=\"M 10.7 110.673054 \nL 10.7 7.2 \n\" style=\"fill:none;stroke:#000000;stroke-linecap:square;stroke-linejoin:miter;stroke-width:0.8;\"/>\n   </g>\n   <g id=\"patch_4\">\n    <path d=\"M 114.173054 110.673054 \nL 114.173054 7.2 \n\" style=\"fill:none;stroke:#000000;stroke-linecap:square;stroke-linejoin:miter;stroke-width:0.8;\"/>\n   </g>\n   <g id=\"patch_5\">\n    <path d=\"M 10.7 110.673054 \nL 114.173054 110.673054 \n\" style=\"fill:none;stroke:#000000;stroke-linecap:square;stroke-linejoin:miter;stroke-width:0.8;\"/>\n   </g>\n   <g id=\"patch_6\">\n    <path d=\"M 10.7 7.2 \nL 114.173054 7.2 \n\" style=\"fill:none;stroke:#000000;stroke-linecap:square;stroke-linejoin:miter;stroke-width:0.8;\"/>\n   </g>\n  </g>\n  <g id=\"axes_2\">\n   <g id=\"patch_7\">\n    <path d=\"M 119.346707 110.673054 \nL 222.81976 110.673054 \nL 222.81976 7.2 \nL 119.346707 7.2 \nz\n\" style=\"fill:#ffffff;\"/>\n   </g>\n   <g clip-path=\"url(#p32e38173b5)\">\n    <image height=\"104\" id=\"image3847b0632d\" transform=\"scale(1 -1)translate(0 -104)\" width=\"104\" x=\"119.346707\" xlink:href=\"data:image/png;base64,\niVBORw0KGgoAAAANSUhEUgAAAGgAAABoCAYAAAAdHLWhAAAByUlEQVR4nO3dQa2EQBAAUfZnDSCBIAELYAUsIIGVABLQgBWwgAS+gD11JzupQ717B5LKXDpDeD3P81QFfD6f8My6rj94k2/DMIRnSr3bX5GnKM1AcAaCMxCcgeAMBGcgOAPBGQjOQHAGgjMQ3LvUg+77Ds9s21bkOeM4hmcyMgtWTxCcgeAMBGcgOAPBGQjOQHAGgjMQnIHgDARnILhiy9JlWYo8J7Mszdwsres6PJPhCYIzEJyB4AwEZyA4A8EZCM5AcAaCMxCcgeAMBPcq9Rl+Rmbx2ff9D97k23Ec4ZnMgtUTBGcgOAPBGQjOQHAGgjMQnIHgDARnIDgDwRkIrtjN0uu6wjNt24ZnMsvSfd/DM94sVVVVBsIzEJyB4AwEZyA4A8EZCM5AcAaCMxCcgeBSy9LM4jOzXGyaJjxznmd4ptTiM8MTBGcgOAPBGQjOQHAGgjMQnIHgDARnIDgDwRkILrUszfx4KXN7c57n8Mw0TeGZzCf1pT739wTBGQjOQHAGgjMQnIHgDARnIDgDwRkIzkBwBoJLLUszP2vK3N7MLD4zt1G7rgvPlOIJgjMQnIHgDARnIDgDwRkIzkBwBoIzEJyB4AwE9w9hIj3+7TGB8wAAAABJRU5ErkJggg==\" y=\"-6.673054\"/>\n   </g>\n   <g id=\"matplotlib.axis_3\"/>\n   <g id=\"matplotlib.axis_4\"/>\n   <g id=\"patch_8\">\n    <path d=\"M 119.346707 110.673054 \nL 119.346707 7.2 \n\" style=\"fill:none;stroke:#000000;stroke-linecap:square;stroke-linejoin:miter;stroke-width:0.8;\"/>\n   </g>\n   <g id=\"patch_9\">\n    <path d=\"M 222.81976 110.673054 \nL 222.81976 7.2 \n\" style=\"fill:none;stroke:#000000;stroke-linecap:square;stroke-linejoin:miter;stroke-width:0.8;\"/>\n   </g>\n   <g id=\"patch_10\">\n    <path d=\"M 119.346707 110.673054 \nL 222.81976 110.673054 \n\" style=\"fill:none;stroke:#000000;stroke-linecap:square;stroke-linejoin:miter;stroke-width:0.8;\"/>\n   </g>\n   <g id=\"patch_11\">\n    <path d=\"M 119.346707 7.2 \nL 222.81976 7.2 \n\" style=\"fill:none;stroke:#000000;stroke-linecap:square;stroke-linejoin:miter;stroke-width:0.8;\"/>\n   </g>\n  </g>\n  <g id=\"axes_3\">\n   <g id=\"patch_12\">\n    <path d=\"M 227.993413 110.673054 \nL 331.466467 110.673054 \nL 331.466467 7.2 \nL 227.993413 7.2 \nz\n\" style=\"fill:#ffffff;\"/>\n   </g>\n   <g clip-path=\"url(#p3bd8d9e9e8)\">\n    <image height=\"104\" id=\"imageab01b75995\" transform=\"scale(1 -1)translate(0 -104)\" width=\"104\" x=\"227.993413\" xlink:href=\"data:image/png;base64,\niVBORw0KGgoAAAANSUhEUgAAAGgAAABoCAYAAAAdHLWhAAABt0lEQVR4nO3dQY2EQBQG4Z3NCEACEpDQDkASSMABEpCABHCAhEYBq+G9Q6eyqe/+Zyap9KUznfm87/v+NFBrDW/meQ5vtm0Lb0op4U3muw3DEN78hhdqykBwBoIzEJyB4AwEZyA4A8EZCM5AcAaCMxDct9UHZS4x13UNb8ZxDG+O4whv9n0Pb7ws/YcMBGcgOAPBGQjOQHAGgjMQnIHgDARnIDgDwaEvSzPu+w5vnucJb6ZpCm8yPEFwBoIzEJyB4AwEZyA4A8EZCM5AcAaCMxCcgeA+rZ7hd10X3mR+iZm5xMxs+r4PbzI8QXAGgjMQnIHgDARnIDgDwRkIzkBwBoIzEJyB4JpdlmYuFzMXrOd5hjdkniA4A8EZCM5AcAaCMxCcgeAMBGcgOAPBGQjOQHDNnuFnLj6v6wpvMpelmV+wtuIJgjMQnIHgDARnIDgDwRkIzkBwBoIzEJyB4AwE1+yydFmW8CbzPL7VHy+14gmCMxCcgeAMBGcgOAPBGQjOQHAGgjMQnIHgDATX7Bl+RiklvKm1hjfkp/ueIDgDwRkIzkBwBoIzEJyB4AwEZyA4A8EZCM5AcH+CpkIesrWesQAAAABJRU5ErkJggg==\" y=\"-6.673054\"/>\n   </g>\n   <g id=\"matplotlib.axis_5\"/>\n   <g id=\"matplotlib.axis_6\"/>\n   <g id=\"patch_13\">\n    <path d=\"M 227.993413 110.673054 \nL 227.993413 7.2 \n\" style=\"fill:none;stroke:#000000;stroke-linecap:square;stroke-linejoin:miter;stroke-width:0.8;\"/>\n   </g>\n   <g id=\"patch_14\">\n    <path d=\"M 331.466467 110.673054 \nL 331.466467 7.2 \n\" style=\"fill:none;stroke:#000000;stroke-linecap:square;stroke-linejoin:miter;stroke-width:0.8;\"/>\n   </g>\n   <g id=\"patch_15\">\n    <path d=\"M 227.993413 110.673054 \nL 331.466467 110.673054 \n\" style=\"fill:none;stroke:#000000;stroke-linecap:square;stroke-linejoin:miter;stroke-width:0.8;\"/>\n   </g>\n   <g id=\"patch_16\">\n    <path d=\"M 227.993413 7.2 \nL 331.466467 7.2 \n\" style=\"fill:none;stroke:#000000;stroke-linecap:square;stroke-linejoin:miter;stroke-width:0.8;\"/>\n   </g>\n  </g>\n  <g id=\"axes_4\">\n   <g id=\"patch_17\">\n    <path d=\"M 336.64012 110.673054 \nL 440.113174 110.673054 \nL 440.113174 7.2 \nL 336.64012 7.2 \nz\n\" style=\"fill:#ffffff;\"/>\n   </g>\n   <g clip-path=\"url(#pe92b7e596f)\">\n    <image height=\"104\" id=\"image4d7fd31a84\" transform=\"scale(1 -1)translate(0 -104)\" width=\"104\" x=\"336.64012\" xlink:href=\"data:image/png;base64,\niVBORw0KGgoAAAANSUhEUgAAAGgAAABoCAYAAAAdHLWhAAABuUlEQVR4nO3dQa2DUBBGYfpSIVRBkYAEnICkSkACEsABDsABT8P8i5uzON9+QpqTu5lc6Ot5nqdrYFmW8sy+7+WZ+77LM7/frzwzDEN5JvHX5CmKGQjOQHAGgjMQnIHgDARnIDgDwRkIzkBwBoJ7tVqWtpIsZZNl6bqu5ZlxHMszniA4A8EZCM5AcAaCMxCcgeAMBGcgOAPBGQjOQHDoZWlyszS58ZksWM/zLM8kC1ZPEJyB4AwEZyA4A8EZCM5AcAaCMxCcgeAMBGcguHerByVLzOM4yjPzPJdnkpulySI34QmCMxCcgeAMBGcgOAPBGQjOQHAGgjMQnIHgDAQXLUuT74Imi8/rusoz0zSVZxJ93zd5jicIzkBwBoIzEJyB4AwEZyA4A8EZCM5AcAaCMxBctCxNXkFPJIvPZInZ6vckPEFwBoIzEJyB4AwEZyA4A8EZCM5AcAaCMxCcgeCib5Ymy8XP51OeaeX7/ZZnfA1fXdcZCM9AcAaCMxCcgeAMBGcgOAPBGQjOQHAGgmv2B0/JLdHkdf9t28ozZJ4gOAPBGQjOQHAGgjMQnIHgDARnIDgDwRkIzkBw//GfUU5G0wTzAAAAAElFTkSuQmCC\" y=\"-6.673054\"/>\n   </g>\n   <g id=\"matplotlib.axis_7\"/>\n   <g id=\"matplotlib.axis_8\"/>\n   <g id=\"patch_18\">\n    <path d=\"M 336.64012 110.673054 \nL 336.64012 7.2 \n\" style=\"fill:none;stroke:#000000;stroke-linecap:square;stroke-linejoin:miter;stroke-width:0.8;\"/>\n   </g>\n   <g id=\"patch_19\">\n    <path d=\"M 440.113174 110.673054 \nL 440.113174 7.2 \n\" style=\"fill:none;stroke:#000000;stroke-linecap:square;stroke-linejoin:miter;stroke-width:0.8;\"/>\n   </g>\n   <g id=\"patch_20\">\n    <path d=\"M 336.64012 110.673054 \nL 440.113174 110.673054 \n\" style=\"fill:none;stroke:#000000;stroke-linecap:square;stroke-linejoin:miter;stroke-width:0.8;\"/>\n   </g>\n   <g id=\"patch_21\">\n    <path d=\"M 336.64012 7.2 \nL 440.113174 7.2 \n\" style=\"fill:none;stroke:#000000;stroke-linecap:square;stroke-linejoin:miter;stroke-width:0.8;\"/>\n   </g>\n  </g>\n  <g id=\"axes_5\">\n   <g id=\"patch_22\">\n    <path d=\"M 445.286826 110.673054 \nL 548.75988 110.673054 \nL 548.75988 7.2 \nL 445.286826 7.2 \nz\n\" style=\"fill:#ffffff;\"/>\n   </g>\n   <g clip-path=\"url(#p471a693d09)\">\n    <image height=\"104\" id=\"imagee17ef1a2d0\" transform=\"scale(1 -1)translate(0 -104)\" width=\"104\" x=\"445.286826\" xlink:href=\"data:image/png;base64,\niVBORw0KGgoAAAANSUhEUgAAAGgAAABoCAYAAAAdHLWhAAABwUlEQVR4nO3dQZGDQBQG4WVrBeAAJCAJCZEQB1hAwuAACUiIg+CA1fD+w1Qf+ru/CqmuuUwNzPA8z/PTwXVd5Zn3+12eWZalPNNaK8+M41ieSf7Pb3lCXRkIzkBwBoIzEJyB4AwEZyA4A8EZCM5AcAaC++v1Q/u+l2eO4yjPnOdZnlnXtTyTbJbO81yecQXBGQjOQHAGgjMQnIHgDARnIDgDwRkIzkBwBoIbep0sTSQbrK/Xqzxz33d5phdXEJyB4AwEZyA4A8EZCM5AcAaCMxCcgeAMBGcguG6bpZ/PpzyTnMQchqE88/1+yzPJydKEKwjOQHAGgjMQnIHgDARnIDgDwRkIzkBwBoIzEFz0Gn6y8Zl8rzM5WTpNU3mm18ZnwhUEZyA4A8EZCM5AcAaCMxCcgeAMBGcgOAPBGQgu2ixNTnwmFzwlr8cnz0bmCoIzEJyB4AwEZyA4A8EZCM5AcAaCMxCcgeAMBNftgqfkNGpys33yzVIyVxCcgeAMBGcgOAPBGQjOQHAGgjMQnIHgDARnILhu3yxNbrbftq0801orz/gavmIGgjMQnIHgDARnIDgDwRkIzkBwBoIzEJyB4P4Bdr5D9UYayAAAAAAASUVORK5CYII=\" y=\"-6.673054\"/>\n   </g>\n   <g id=\"matplotlib.axis_9\"/>\n   <g id=\"matplotlib.axis_10\"/>\n   <g id=\"patch_23\">\n    <path d=\"M 445.286826 110.673054 \nL 445.286826 7.2 \n\" style=\"fill:none;stroke:#000000;stroke-linecap:square;stroke-linejoin:miter;stroke-width:0.8;\"/>\n   </g>\n   <g id=\"patch_24\">\n    <path d=\"M 548.75988 110.673054 \nL 548.75988 7.2 \n\" style=\"fill:none;stroke:#000000;stroke-linecap:square;stroke-linejoin:miter;stroke-width:0.8;\"/>\n   </g>\n   <g id=\"patch_25\">\n    <path d=\"M 445.286826 110.673054 \nL 548.75988 110.673054 \n\" style=\"fill:none;stroke:#000000;stroke-linecap:square;stroke-linejoin:miter;stroke-width:0.8;\"/>\n   </g>\n   <g id=\"patch_26\">\n    <path d=\"M 445.286826 7.2 \nL 548.75988 7.2 \n\" style=\"fill:none;stroke:#000000;stroke-linecap:square;stroke-linejoin:miter;stroke-width:0.8;\"/>\n   </g>\n  </g>\n  <g id=\"axes_6\">\n   <g id=\"patch_27\">\n    <path d=\"M 553.933533 110.673054 \nL 657.406587 110.673054 \nL 657.406587 7.2 \nL 553.933533 7.2 \nz\n\" style=\"fill:#ffffff;\"/>\n   </g>\n   <g clip-path=\"url(#p8d6ca3f1c8)\">\n    <image height=\"104\" id=\"image40030d6856\" transform=\"scale(1 -1)translate(0 -104)\" width=\"104\" x=\"553.933533\" xlink:href=\"data:image/png;base64,\niVBORw0KGgoAAAANSUhEUgAAAGgAAABoCAYAAAAdHLWhAAAB0ElEQVR4nO3dQY2DUBRG4XYyPooEJCABB2hBAUhAAnVAFRQUEBwUBYyDSe5dvJ7F+fZ/aHLyNi803K/rum5By7JEJ7e2bcOb8zzDm33fw5uqqsKbUn6+/QP0PwPBGQjOQHAGgjMQnIHgDARnIDgDwRkIzkBw98xl6efzCT/o9XqFN13XhTeZi891XcObUjxBcAaCMxCcgeAMBGcgOAPBGQjOQHAGgjMQnIHgUpelpTyfz/Am8wbr+/0Ob+q6Dm8yPEFwBoIzEJyB4AwEZyA4A8EZCM5AcAaCMxCcgeB+M6PMm6XzPGceVUSpi88MTxCcgeAMBGcgOAPBGQjOQHAGgjMQnIHgDARnILjUZek4juFN3/eZR4U9Ho8izynFEwRnIDgDwRkIzkBwBoIzEJyB4AwEZyA4A8EZCC51WZqRucTMvPE5TVN4Q+YJgjMQnIHgDARnIDgDwRkIzkBwBoIzEJyB4AwEl7oszXwQ6TiO8Cbzd//MW69N0xTZZHiC4AwEZyA4A8EZCM5AcAaCMxCcgeAMBGcgOAPBpT7wlPnw0jAM4U3msnTbtvAmY9/38KaqqvDGEwRnIDgDwRkIzkBwBoIzEJyB4AwEZyA4A8EZCO4PLQdLpZ2S8b0AAAAASUVORK5CYII=\" y=\"-6.673054\"/>\n   </g>\n   <g id=\"matplotlib.axis_11\"/>\n   <g id=\"matplotlib.axis_12\"/>\n   <g id=\"patch_28\">\n    <path d=\"M 553.933533 110.673054 \nL 553.933533 7.2 \n\" style=\"fill:none;stroke:#000000;stroke-linecap:square;stroke-linejoin:miter;stroke-width:0.8;\"/>\n   </g>\n   <g id=\"patch_29\">\n    <path d=\"M 657.406587 110.673054 \nL 657.406587 7.2 \n\" style=\"fill:none;stroke:#000000;stroke-linecap:square;stroke-linejoin:miter;stroke-width:0.8;\"/>\n   </g>\n   <g id=\"patch_30\">\n    <path d=\"M 553.933533 110.673054 \nL 657.406587 110.673054 \n\" style=\"fill:none;stroke:#000000;stroke-linecap:square;stroke-linejoin:miter;stroke-width:0.8;\"/>\n   </g>\n   <g id=\"patch_31\">\n    <path d=\"M 553.933533 7.2 \nL 657.406587 7.2 \n\" style=\"fill:none;stroke:#000000;stroke-linecap:square;stroke-linejoin:miter;stroke-width:0.8;\"/>\n   </g>\n  </g>\n  <g id=\"axes_7\">\n   <g id=\"patch_32\">\n    <path d=\"M 662.58024 110.673054 \nL 766.053293 110.673054 \nL 766.053293 7.2 \nL 662.58024 7.2 \nz\n\" style=\"fill:#ffffff;\"/>\n   </g>\n   <g clip-path=\"url(#pb91f7b1eaf)\">\n    <image height=\"104\" id=\"image18ed5cecc0\" transform=\"scale(1 -1)translate(0 -104)\" width=\"104\" x=\"662.58024\" xlink:href=\"data:image/png;base64,\niVBORw0KGgoAAAANSUhEUgAAAGgAAABoCAYAAAAdHLWhAAABuElEQVR4nO3dQY2EQBBA0Z3NCgAHSEACDkACksDBSEACEloCEnDAOtikKpuaf/jvXhmSn75UeuD1PM/zVWBZlvBMay08s+97eGae5/BMle9PP4D+ZiA4A8EZCM5AcAaCMxCcgeAMBGcgOAPBGQjuJzN033d4puu68Mx5nuGZaZrCMy5LlWYgOAPBGQjOQHAGgjMQnIHgDARnIDgDwRkILrUszSw+r+sq+Z1hGMIzZJ4gOAPBGQjOQHAGgjMQnIHgDARnIDgDwRkIzkBwqWVplcwt0W3b/v05PskTBGcgOAPBGQjOQHAGgjMQnIHgDARnIDgDwRkIrmxZehxHeKbv+/DM+/0Oz4zjGJ7J3HrN8ATBGQjOQHAGgjMQnIHgDARnIDgDwRkIzkBwBoJ7VX3gKfP+0cwt0cwSM/MO1szyN8MTBGcgOAPBGQjOQHAGgjMQnIHgDARnIDgDwRkIDn2ztOrdqK21kt/JvE/VEwRnIDgDwRkIzkBwBoIzEJyB4AwEZyA4A8EZCK5sWZq5vZn5e3xm8bmua3im6kNSniA4A8EZCM5AcAaCMxCcgeAMBGcgOAPBGQjOQHC/MWk7EwYOSyoAAAAASUVORK5CYII=\" y=\"-6.673054\"/>\n   </g>\n   <g id=\"matplotlib.axis_13\"/>\n   <g id=\"matplotlib.axis_14\"/>\n   <g id=\"patch_33\">\n    <path d=\"M 662.58024 110.673054 \nL 662.58024 7.2 \n\" style=\"fill:none;stroke:#000000;stroke-linecap:square;stroke-linejoin:miter;stroke-width:0.8;\"/>\n   </g>\n   <g id=\"patch_34\">\n    <path d=\"M 766.053293 110.673054 \nL 766.053293 7.2 \n\" style=\"fill:none;stroke:#000000;stroke-linecap:square;stroke-linejoin:miter;stroke-width:0.8;\"/>\n   </g>\n   <g id=\"patch_35\">\n    <path d=\"M 662.58024 110.673054 \nL 766.053293 110.673054 \n\" style=\"fill:none;stroke:#000000;stroke-linecap:square;stroke-linejoin:miter;stroke-width:0.8;\"/>\n   </g>\n   <g id=\"patch_36\">\n    <path d=\"M 662.58024 7.2 \nL 766.053293 7.2 \n\" style=\"fill:none;stroke:#000000;stroke-linecap:square;stroke-linejoin:miter;stroke-width:0.8;\"/>\n   </g>\n  </g>\n  <g id=\"axes_8\">\n   <g id=\"patch_37\">\n    <path d=\"M 771.226946 110.673054 \nL 874.7 110.673054 \nL 874.7 7.2 \nL 771.226946 7.2 \nz\n\" style=\"fill:#ffffff;\"/>\n   </g>\n   <g clip-path=\"url(#p3ea9588ed4)\">\n    <image height=\"104\" id=\"imageed1a8b75cf\" transform=\"scale(1 -1)translate(0 -104)\" width=\"104\" x=\"771.226946\" xlink:href=\"data:image/png;base64,\niVBORw0KGgoAAAANSUhEUgAAAGgAAABoCAYAAAAdHLWhAAABq0lEQVR4nO3dUa2DQBBAUfpSIUjAAeAECzhAAlKQAA5wAE62BtqXzKTZ3o97/idscrM/mwUepZTSQN33HZ6Zpik8c55neGbbtvDMMAzhmb/whKoyEJyB4AwEZyA4A8EZCM5AcAaCMxCcgeAMBPf89QL+s+97eOY4ju8v5I22bas8xx0EZyA4A8EZCM5AcAaCMxCcgeAMBGcgOAPBGQgOfViauVma0fd9eMbDUjVNYyA8A8EZCM5AcAaCMxCcgeAMBGcgOAPBGQiu2mFp5lX3WoeltZ6T4Q6CMxCcgeAMBGcgOAPBGQjOQHAGgjMQnIHgDASXOixd1zU8M89z5lFV1LolmuEOgjMQnIHgDARnIDgDwRkIzkBwBoIzEJyB4AwElzoszfxEqeu68MyyLOGZWt8srcUdBGcgOAPBGQjOQHAGgjMQnIHgDARnIDgDwRkI7lFKKb9exCeZHzyN4/j9hbxxXVd4JnOD1R0EZyA4A8EZCM5AcAaCMxCcgeAMBGcgOAPBGQgO/YMn8uvxtbiD4AwEZyA4A8EZCM5AcAaCMxCcgeAMBGcgOAPBvQB6TjFZq3ohCgAAAABJRU5ErkJggg==\" y=\"-6.673054\"/>\n   </g>\n   <g id=\"matplotlib.axis_15\"/>\n   <g id=\"matplotlib.axis_16\"/>\n   <g id=\"patch_38\">\n    <path d=\"M 771.226946 110.673054 \nL 771.226946 7.2 \n\" style=\"fill:none;stroke:#000000;stroke-linecap:square;stroke-linejoin:miter;stroke-width:0.8;\"/>\n   </g>\n   <g id=\"patch_39\">\n    <path d=\"M 874.7 110.673054 \nL 874.7 7.2 \n\" style=\"fill:none;stroke:#000000;stroke-linecap:square;stroke-linejoin:miter;stroke-width:0.8;\"/>\n   </g>\n   <g id=\"patch_40\">\n    <path d=\"M 771.226946 110.673054 \nL 874.7 110.673054 \n\" style=\"fill:none;stroke:#000000;stroke-linecap:square;stroke-linejoin:miter;stroke-width:0.8;\"/>\n   </g>\n   <g id=\"patch_41\">\n    <path d=\"M 771.226946 7.2 \nL 874.7 7.2 \n\" style=\"fill:none;stroke:#000000;stroke-linecap:square;stroke-linejoin:miter;stroke-width:0.8;\"/>\n   </g>\n  </g>\n </g>\n <defs>\n  <clipPath id=\"pb99a40791f\">\n   <rect height=\"103.473054\" width=\"103.473054\" x=\"10.7\" y=\"7.2\"/>\n  </clipPath>\n  <clipPath id=\"p32e38173b5\">\n   <rect height=\"103.473054\" width=\"103.473054\" x=\"119.346707\" y=\"7.2\"/>\n  </clipPath>\n  <clipPath id=\"p3bd8d9e9e8\">\n   <rect height=\"103.473054\" width=\"103.473054\" x=\"227.993413\" y=\"7.2\"/>\n  </clipPath>\n  <clipPath id=\"pe92b7e596f\">\n   <rect height=\"103.473054\" width=\"103.473054\" x=\"336.64012\" y=\"7.2\"/>\n  </clipPath>\n  <clipPath id=\"p471a693d09\">\n   <rect height=\"103.473054\" width=\"103.473054\" x=\"445.286826\" y=\"7.2\"/>\n  </clipPath>\n  <clipPath id=\"p8d6ca3f1c8\">\n   <rect height=\"103.473054\" width=\"103.473054\" x=\"553.933533\" y=\"7.2\"/>\n  </clipPath>\n  <clipPath id=\"pb91f7b1eaf\">\n   <rect height=\"103.473054\" width=\"103.473054\" x=\"662.58024\" y=\"7.2\"/>\n  </clipPath>\n  <clipPath id=\"p3ea9588ed4\">\n   <rect height=\"103.473054\" width=\"103.473054\" x=\"771.226946\" y=\"7.2\"/>\n  </clipPath>\n </defs>\n</svg>\n",
      "image/png": "[encoded data removed]"
     },
     "metadata": {}
    }
   ],
   "source": [
    "\n",
    "fig = plt.figure(figsize=(12, 2))  \n",
    "fig.subplots_adjust(left=0, right=1, bottom=0, top=1, hspace=0.05, wspace=0.05)\n",
    "\n",
    "for i in range(8):\n",
    "    ax = fig.add_subplot(1, 8, i + 1, xticks=[], yticks=[])\n",
    "    ax.imshow(digits.images[i*3], cmap=plt.cm.binary, interpolation='nearest')"
   ]
  },
  {
   "cell_type": "code",
   "execution_count": 11,
   "metadata": {},
   "outputs": [
    {
     "output_type": "execute_result",
     "data": {
      "text/plain": [
       "   index  pixel_0_0  pixel_0_1  pixel_0_2  pixel_0_3  pixel_0_4  pixel_0_5  \\\n",
       "0    667        0.0        0.0        4.0       16.0       15.0        4.0   \n",
       "1    971        0.0        0.0        5.0       15.0       14.0        3.0   \n",
       "2    914        0.0        0.0        7.0       14.0        9.0        0.0   \n",
       "\n",
       "   pixel_0_6  pixel_0_7  pixel_1_0  ...  pixel_6_7  pixel_7_0  pixel_7_1  \\\n",
       "0        0.0        0.0        0.0  ...        0.0        0.0        0.0   \n",
       "1        0.0        0.0        0.0  ...        1.0        0.0        0.0   \n",
       "2        0.0        0.0        0.0  ...        3.0        0.0        0.0   \n",
       "\n",
       "   pixel_7_2  pixel_7_3  pixel_7_4  pixel_7_5  pixel_7_6  pixel_7_7  target  \n",
       "0        3.0       12.0       14.0       11.0        0.0        0.0       1  \n",
       "1        4.0       11.0       13.0       16.0       11.0        0.0       9  \n",
       "2        5.0       15.0       16.0       16.0       12.0        1.0       9  \n",
       "\n",
       "[3 rows x 66 columns]"
      ],
      "text/html": "<div>\n<style scoped>\n    .dataframe tbody tr th:only-of-type {\n        vertical-align: middle;\n    }\n\n    .dataframe tbody tr th {\n        vertical-align: top;\n    }\n\n    .dataframe thead th {\n        text-align: right;\n    }\n</style>\n<table border=\"1\" class=\"dataframe\">\n  <thead>\n    <tr style=\"text-align: right;\">\n      <th></th>\n      <th>index</th>\n      <th>pixel_0_0</th>\n      <th>pixel_0_1</th>\n      <th>pixel_0_2</th>\n      <th>pixel_0_3</th>\n      <th>pixel_0_4</th>\n      <th>pixel_0_5</th>\n      <th>pixel_0_6</th>\n      <th>pixel_0_7</th>\n      <th>pixel_1_0</th>\n      <th>...</th>\n      <th>pixel_6_7</th>\n      <th>pixel_7_0</th>\n      <th>pixel_7_1</th>\n      <th>pixel_7_2</th>\n      <th>pixel_7_3</th>\n      <th>pixel_7_4</th>\n      <th>pixel_7_5</th>\n      <th>pixel_7_6</th>\n      <th>pixel_7_7</th>\n      <th>target</th>\n    </tr>\n  </thead>\n  <tbody>\n    <tr>\n      <th>0</th>\n      <td>667</td>\n      <td>0.0</td>\n      <td>0.0</td>\n      <td>4.0</td>\n      <td>16.0</td>\n      <td>15.0</td>\n      <td>4.0</td>\n      <td>0.0</td>\n      <td>0.0</td>\n      <td>0.0</td>\n      <td>...</td>\n      <td>0.0</td>\n      <td>0.0</td>\n      <td>0.0</td>\n      <td>3.0</td>\n      <td>12.0</td>\n      <td>14.0</td>\n      <td>11.0</td>\n      <td>0.0</td>\n      <td>0.0</td>\n      <td>1</td>\n    </tr>\n    <tr>\n      <th>1</th>\n      <td>971</td>\n      <td>0.0</td>\n      <td>0.0</td>\n      <td>5.0</td>\n      <td>15.0</td>\n      <td>14.0</td>\n      <td>3.0</td>\n      <td>0.0</td>\n      <td>0.0</td>\n      <td>0.0</td>\n      <td>...</td>\n      <td>1.0</td>\n      <td>0.0</td>\n      <td>0.0</td>\n      <td>4.0</td>\n      <td>11.0</td>\n      <td>13.0</td>\n      <td>16.0</td>\n      <td>11.0</td>\n      <td>0.0</td>\n      <td>9</td>\n    </tr>\n    <tr>\n      <th>2</th>\n      <td>914</td>\n      <td>0.0</td>\n      <td>0.0</td>\n      <td>7.0</td>\n      <td>14.0</td>\n      <td>9.0</td>\n      <td>0.0</td>\n      <td>0.0</td>\n      <td>0.0</td>\n      <td>0.0</td>\n      <td>...</td>\n      <td>3.0</td>\n      <td>0.0</td>\n      <td>0.0</td>\n      <td>5.0</td>\n      <td>15.0</td>\n      <td>16.0</td>\n      <td>16.0</td>\n      <td>12.0</td>\n      <td>1.0</td>\n      <td>9</td>\n    </tr>\n  </tbody>\n</table>\n<p>3 rows × 66 columns</p>\n</div>"
     },
     "metadata": {},
     "execution_count": 11
    }
   ],
   "source": [
    "df_test = pd.read_csv('../static/data/digits_test.csv')\n",
    "df_test.head(3)"
   ]
  },
  {
   "cell_type": "code",
   "execution_count": 12,
   "metadata": {},
   "outputs": [
    {
     "output_type": "execute_result",
     "data": {
      "text/plain": [
       "(450, 450)"
      ]
     },
     "metadata": {},
     "execution_count": 12
    }
   ],
   "source": [
    "img_index_list = df_test['index'].values\n",
    "target_index_list = df_test['target'].values\n",
    "len(img_index_list), len(target_index_list)"
   ]
  },
  {
   "cell_type": "code",
   "execution_count": 13,
   "metadata": {},
   "outputs": [
    {
     "output_type": "execute_result",
     "data": {
      "text/plain": [
       "((1347, 64), (1347,))"
      ]
     },
     "metadata": {},
     "execution_count": 13
    }
   ],
   "source": [
    "X_train = df_train.iloc[:, :-1].values\n",
    "y_train = df_train.iloc[:, -1].values\n",
    "X_train.shape, y_train.shape"
   ]
  },
  {
   "cell_type": "code",
   "execution_count": 14,
   "metadata": {},
   "outputs": [
    {
     "output_type": "execute_result",
     "data": {
      "text/plain": [
       "((450, 64), (450,))"
      ]
     },
     "metadata": {},
     "execution_count": 14
    }
   ],
   "source": [
    "X_test = df_test.iloc[:, 1:-1].values  # 첫번째 컬럼이 index 이므로 이를 배제\n",
    "y_test = df_test.target.values\n",
    "X_test.shape, y_test.shape"
   ]
  },
  {
   "cell_type": "code",
   "execution_count": 15,
   "metadata": {},
   "outputs": [
    {
     "output_type": "execute_result",
     "data": {
      "text/plain": [
       "MinMaxScaler()"
      ]
     },
     "metadata": {},
     "execution_count": 15
    }
   ],
   "source": [
    "scaler = MinMaxScaler()\n",
    "scaler.fit(X_train)"
   ]
  },
  {
   "cell_type": "code",
   "execution_count": 16,
   "metadata": {},
   "outputs": [
    {
     "output_type": "execute_result",
     "data": {
      "text/plain": [
       "((1347, 64), (450, 64))"
      ]
     },
     "metadata": {},
     "execution_count": 16
    }
   ],
   "source": [
    "X_train_scaled = scaler.transform(X_train)\n",
    "X_test_scaled = scaler.transform(X_test)\n",
    "X_train_scaled.shape, X_test_scaled.shape"
   ]
  },
  {
   "cell_type": "code",
   "execution_count": 17,
   "metadata": {},
   "outputs": [
    {
     "output_type": "execute_result",
     "data": {
      "text/plain": [
       "['../static/model/digits_scaler.pkl']"
      ]
     },
     "metadata": {},
     "execution_count": 17
    }
   ],
   "source": [
    "joblib.dump(scaler, '../static/model/digits_scaler.pkl')"
   ]
  },
  {
   "source": [
    "### 1. Logistic Regression"
   ],
   "cell_type": "markdown",
   "metadata": {}
  },
  {
   "cell_type": "code",
   "execution_count": 18,
   "metadata": {},
   "outputs": [
    {
     "output_type": "execute_result",
     "data": {
      "text/plain": [
       "{'C': 1.0,\n",
       " 'class_weight': None,\n",
       " 'dual': False,\n",
       " 'fit_intercept': True,\n",
       " 'intercept_scaling': 1,\n",
       " 'l1_ratio': None,\n",
       " 'max_iter': 100,\n",
       " 'multi_class': 'auto',\n",
       " 'n_jobs': None,\n",
       " 'penalty': 'l2',\n",
       " 'random_state': None,\n",
       " 'solver': 'lbfgs',\n",
       " 'tol': 0.0001,\n",
       " 'verbose': 0,\n",
       " 'warm_start': False}"
      ]
     },
     "metadata": {},
     "execution_count": 18
    }
   ],
   "source": [
    "lr_clf = LogisticRegression()\n",
    "lr_clf.get_params()"
   ]
  },
  {
   "cell_type": "code",
   "execution_count": 22,
   "metadata": {},
   "outputs": [],
   "source": [
    "params = {\n",
    "    'C': [2, 6, 7, 10, 20, 30, 100]\n",
    "}"
   ]
  },
  {
   "cell_type": "code",
   "execution_count": 23,
   "metadata": {},
   "outputs": [
    {
     "output_type": "stream",
     "name": "stdout",
     "text": [
      "최고 평균 정확도: 0.9673\n최적 파라미터: {'C': 2}\n"
     ]
    }
   ],
   "source": [
    "grid_cv = GridSearchCV(lr_clf, param_grid=params, scoring='accuracy', cv=5)\n",
    "grid_cv.fit(X_train_scaled, y_train)\n",
    "print(f'최고 평균 정확도: {grid_cv.best_score_:.4f}')\n",
    "print('최적 파라미터:', grid_cv.best_params_)"
   ]
  },
  {
   "cell_type": "code",
   "execution_count": 24,
   "metadata": {},
   "outputs": [
    {
     "output_type": "execute_result",
     "data": {
      "text/plain": [
       "0.9666666666666667"
      ]
     },
     "metadata": {},
     "execution_count": 24
    }
   ],
   "source": [
    "best_lr = grid_cv.best_estimator_\n",
    "pred = best_lr.predict(X_test_scaled)\n",
    "accuracy_score(y_test, pred)"
   ]
  },
  {
   "cell_type": "code",
   "execution_count": 25,
   "metadata": {},
   "outputs": [
    {
     "output_type": "execute_result",
     "data": {
      "text/plain": [
       "['../static/model/digits_lr.pkl']"
      ]
     },
     "metadata": {},
     "execution_count": 25
    }
   ],
   "source": [
    "joblib.dump(best_lr, '../static/model/digits_lr.pkl')"
   ]
  },
  {
   "source": [
    "### SVM"
   ],
   "cell_type": "markdown",
   "metadata": {}
  },
  {
   "cell_type": "code",
   "execution_count": 26,
   "metadata": {},
   "outputs": [
    {
     "output_type": "execute_result",
     "data": {
      "text/plain": [
       "{'C': 1.0,\n",
       " 'break_ties': False,\n",
       " 'cache_size': 200,\n",
       " 'class_weight': None,\n",
       " 'coef0': 0.0,\n",
       " 'decision_function_shape': 'ovr',\n",
       " 'degree': 3,\n",
       " 'gamma': 'scale',\n",
       " 'kernel': 'rbf',\n",
       " 'max_iter': -1,\n",
       " 'probability': False,\n",
       " 'random_state': None,\n",
       " 'shrinking': True,\n",
       " 'tol': 0.001,\n",
       " 'verbose': False}"
      ]
     },
     "metadata": {},
     "execution_count": 26
    }
   ],
   "source": [
    "sv_clf = SVC()\n",
    "sv_clf.get_params()"
   ]
  },
  {
   "cell_type": "code",
   "execution_count": 27,
   "metadata": {},
   "outputs": [],
   "source": [
    "params = {\n",
    "    'C': [2, 6, 7, 10, 20, 30, 100]\n",
    "}"
   ]
  },
  {
   "cell_type": "code",
   "execution_count": 28,
   "metadata": {},
   "outputs": [
    {
     "output_type": "stream",
     "name": "stdout",
     "text": [
      "최고 평균 정확도: 0.9933\n최적 파라미터: {'C': 6}\n"
     ]
    }
   ],
   "source": [
    "grid_cv = GridSearchCV(sv_clf, param_grid=params, scoring='accuracy', cv=5)\n",
    "grid_cv.fit(X_train_scaled, y_train)\n",
    "print(f'최고 평균 정확도: {grid_cv.best_score_:.4f}')\n",
    "print('최적 파라미터:', grid_cv.best_params_)"
   ]
  },
  {
   "cell_type": "code",
   "execution_count": 29,
   "metadata": {},
   "outputs": [
    {
     "output_type": "execute_result",
     "data": {
      "text/plain": [
       "0.9844444444444445"
      ]
     },
     "metadata": {},
     "execution_count": 29
    }
   ],
   "source": [
    "best_sv = grid_cv.best_estimator_\n",
    "pred = best_sv.predict(X_test_scaled)\n",
    "accuracy_score(y_test, pred)"
   ]
  },
  {
   "cell_type": "code",
   "execution_count": 30,
   "metadata": {},
   "outputs": [
    {
     "output_type": "execute_result",
     "data": {
      "text/plain": [
       "['../static/model/digits_sv.pkl']"
      ]
     },
     "metadata": {},
     "execution_count": 30
    }
   ],
   "source": [
    "joblib.dump(best_sv, '../static/model/digits_sv.pkl')"
   ]
  },
  {
   "source": [
    "### 3. Random Forest"
   ],
   "cell_type": "markdown",
   "metadata": {}
  },
  {
   "cell_type": "code",
   "execution_count": 31,
   "metadata": {},
   "outputs": [
    {
     "output_type": "execute_result",
     "data": {
      "text/plain": [
       "{'bootstrap': True,\n",
       " 'ccp_alpha': 0.0,\n",
       " 'class_weight': None,\n",
       " 'criterion': 'gini',\n",
       " 'max_depth': None,\n",
       " 'max_features': 'auto',\n",
       " 'max_leaf_nodes': None,\n",
       " 'max_samples': None,\n",
       " 'min_impurity_decrease': 0.0,\n",
       " 'min_impurity_split': None,\n",
       " 'min_samples_leaf': 1,\n",
       " 'min_samples_split': 2,\n",
       " 'min_weight_fraction_leaf': 0.0,\n",
       " 'n_estimators': 100,\n",
       " 'n_jobs': None,\n",
       " 'oob_score': False,\n",
       " 'random_state': None,\n",
       " 'verbose': 0,\n",
       " 'warm_start': False}"
      ]
     },
     "metadata": {},
     "execution_count": 31
    }
   ],
   "source": [
    "rf_clf = RandomForestClassifier()\n",
    "rf_clf.get_params()"
   ]
  },
  {
   "cell_type": "code",
   "execution_count": 33,
   "metadata": {},
   "outputs": [],
   "source": [
    "params = {\n",
    "    'max_depth': [14, 16, 18, 20],\n",
    "    'min_samples_split': [2, 3, 4]\n",
    "}"
   ]
  },
  {
   "cell_type": "code",
   "execution_count": 34,
   "metadata": {},
   "outputs": [
    {
     "output_type": "stream",
     "name": "stdout",
     "text": [
      "최고 평균 정확도: 0.9740\n최적 파라미터: {'max_depth': 16, 'min_samples_split': 4}\n"
     ]
    }
   ],
   "source": [
    "grid_cv = GridSearchCV(rf_clf, param_grid=params, scoring='accuracy', cv=5)\n",
    "grid_cv.fit(X_train_scaled, y_train)\n",
    "print(f'최고 평균 정확도: {grid_cv.best_score_:.4f}')\n",
    "print('최적 파라미터:', grid_cv.best_params_)"
   ]
  },
  {
   "cell_type": "code",
   "execution_count": 35,
   "metadata": {},
   "outputs": [
    {
     "output_type": "execute_result",
     "data": {
      "text/plain": [
       "0.9666666666666667"
      ]
     },
     "metadata": {},
     "execution_count": 35
    }
   ],
   "source": [
    "best_rf = grid_cv.best_estimator_\n",
    "pred = best_rf.predict(X_test_scaled)\n",
    "accuracy_score(y_test, pred)"
   ]
  },
  {
   "cell_type": "code",
   "execution_count": 36,
   "metadata": {},
   "outputs": [
    {
     "output_type": "execute_result",
     "data": {
      "text/plain": [
       "['../static/model/digits_rf.pkl']"
      ]
     },
     "metadata": {},
     "execution_count": 36
    }
   ],
   "source": [
    "joblib.dump(best_rf, '../static/model/digits_rf.pkl')"
   ]
  },
  {
   "cell_type": "code",
   "execution_count": null,
   "metadata": {},
   "outputs": [],
   "source": []
  }
 ]
}